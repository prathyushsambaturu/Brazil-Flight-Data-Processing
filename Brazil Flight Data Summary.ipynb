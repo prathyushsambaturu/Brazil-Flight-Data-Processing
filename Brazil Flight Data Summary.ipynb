{
 "cells": [
  {
   "cell_type": "code",
   "execution_count": null,
   "id": "34e3398c",
   "metadata": {},
   "outputs": [],
   "source": [
    "import os\n",
    "import pandas as pd\n",
    "import unicodedata\n",
    "from tqdm import tqdm\n",
    "import pycountry\n",
    "database = \"data/raw\""
   ]
  },
  {
   "cell_type": "code",
   "execution_count": null,
   "id": "51c7a4a2",
   "metadata": {},
   "outputs": [],
   "source": [
    "def normalize(col):\n",
    "    s = str(col)\n",
    "    s2 = unicodedata.normalize(\"NFD\", s).encode(\"ascii\",\"ignore\").decode().upper().strip()\n",
    "    return s2\n",
    "\n",
    "# Portuguese to English translation mapping \n",
    "translation = {\n",
    " \"EMPRESA (SIGLA)\".upper(): \"airline_abbrev\",\n",
    " \"EMPRESA (NOME)\".upper(): \"airline_name\",\n",
    " \"EMPRESA (NACIONALIDADE)\".upper(): \"airline_nationality\",\n",
    " \"ANO\": \"year\",\n",
    " \"MES\": \"month\",\n",
    " \"AEROPORTO DE ORIGEM (SIGLA)\".upper(): \"origin_code\",\n",
    " \"AEROPORTO DE ORIGEM (NOME)\".upper(): \"origin_airport\",\n",
    " \"AEROPORTO DE ORIGEM (UF)\".upper(): \"origin_state\",\n",
    " \"AEROPORTO DE ORIGEM (REGIAO)\".upper(): \"origin_region\",\n",
    " \"AEROPORTO DE ORIGEM (PAIS)\".upper(): \"origin_country\",\n",
    " \"AEROPORTO DE ORIGEM (CONTINENTE)\".upper(): \"origin_continent\",\n",
    " \"AEROPORTO DE DESTINO (SIGLA)\".upper(): \"destination_code\",\n",
    " \"AEROPORTO DE DESTINO (NOME)\".upper(): \"destination_airport\",\n",
    " \"AEROPORTO DE DESTINO (UF)\".upper(): \"destination_state\",\n",
    " \"AEROPORTO DE DESTINO (REGIAO)\".upper(): \"destination_region\",\n",
    " \"AEROPORTO DE DESTINO (PAIS)\".upper(): \"destination_country\",\n",
    " \"AEROPORTO DE DESTINO (CONTINENTE)\".upper(): \"destination_continent\",\n",
    " \"NATUREZA\": \"flight_type\",\n",
    " \"GRUPO DE VOO\": \"flight_group\",\n",
    " \"PASSAGEIROS PAGOS\": \"passengers_paying\",\n",
    " \"PASSAGEIROS GRATIS\": \"passengers_nonpaying\",\n",
    " \"CARGA PAGA (KG)\".upper(): \"cargo_paid_kg\",\n",
    " \"CARGA GRATIS (KG)\".upper(): \"cargo_free_kg\",\n",
    " \"CORREIO (KG)\".upper(): \"mail_kg\",\n",
    " \"ASK\": \"available_seat_km\",\n",
    " \"RPK\": \"revenue_passenger_km\",\n",
    " \"ATK\": \"available_tonne_km\",\n",
    " \"RTK\": \"revenue_tonne_km\",\n",
    " \"COMBUSTIVEL (LITROS)\".upper(): \"fuel_liters\",\n",
    " \"DISTANCIA VOADA (KM)\".upper(): \"distance_km\",\n",
    " \"DECOLAGENS\": \"takeoffs\",\n",
    " \"CARGA PAGA KM\": \"cargo_paid_km\",\n",
    " \"CARGA GRATIS KM\": \"cargo_free_km\",\n",
    " \"CORREIO KM\": \"mail_km\",\n",
    " \"ASSENTOS\": \"seats\",\n",
    " \"PAYLOAD\": \"payload\",\n",
    " \"HORAS VOADAS\": \"hours_flown\",\n",
    " \"BAGAGEM (KG)\".upper(): \"baggage_kg\"\n",
    "}\n",
    "\n",
    "region_translation = {\n",
    "    \"NORTE\": \"North\",\n",
    "    \"NORDESTE\": \"Northeast\",\n",
    "    \"CENTRO-OESTE\": \"Central-West\",\n",
    "    \"SUDESTE\": \"Southeast\",\n",
    "    \"SUL\": \"South\"\n",
    "}\n",
    "\n"
   ]
  },
  {
   "cell_type": "code",
   "execution_count": null,
   "id": "dfe4e6b7",
   "metadata": {},
   "outputs": [],
   "source": [
    "def country_to_english(name):\n",
    "    if pd.isna(name) or name.upper() == \"UNKNOWN\":\n",
    "        return \"UNKNOWN\"\n",
    "    try:\n",
    "        # Some names may need manual corrections if not recognized\n",
    "        return pycountry.countries.lookup(name).name\n",
    "    except LookupError:\n",
    "        return name  # fallback: leave original if not found"
   ]
  },
  {
   "cell_type": "code",
   "execution_count": null,
   "id": "8df40570",
   "metadata": {},
   "outputs": [],
   "source": [
    "frames = []\n",
    "for fname in tqdm(os.listdir(database)):\n",
    "    if not fname.lower().endswith(\".csv\"):\n",
    "        continue\n",
    "    path = os.path.join(database, fname)\n",
    "    try:\n",
    "        # try semicolon delimiter first (ANAC often uses ;)\n",
    "        df = pd.read_csv(path, sep=\";\", encoding=\"latin1\", low_memory=False)\n",
    "    except Exception:\n",
    "        df = pd.read_csv(path, sep=\",\", encoding=\"latin1\", low_memory=False)\n",
    "    \n",
    "    # normalize column names\n",
    "    df.columns = [normalize(c) for c in df.columns]\n",
    "    # translate\n",
    "    rename_map = {col: translation[col] for col in df.columns if col in translation}\n",
    "    df = df.rename(columns=rename_map)\n",
    "    \n",
    "    frames.append(df)\n",
    "    print(f\"Loaded {fname} with {len(df)} rows\")\n",
    "\n",
    "flights = pd.concat(frames, ignore_index=True)\n",
    "print(\"Combined rows:\", len(flights))"
   ]
  },
  {
   "cell_type": "code",
   "execution_count": null,
   "id": "dbc6b615",
   "metadata": {},
   "outputs": [],
   "source": [
    "flights[\"passengers_total\"] = flights[\"passengers_paying\"].fillna(0) + flights.get(\"passengers_nonpaying\", 0).fillna(0)\n",
    "flights = flights[flights[\"passengers_total\"] > 0]\n",
    "print(\"Rows with passenger flights only:\", len(flights))"
   ]
  },
  {
   "cell_type": "code",
   "execution_count": null,
   "id": "376d7f42",
   "metadata": {},
   "outputs": [],
   "source": [
    "flights[\"origin_country\"] = flights[\"origin_country\"].fillna(\"UNKNOWN\")\n",
    "flights[\"origin_region\"] = flights[\"origin_region\"].fillna(\"UNKNOWN\")\n",
    "flights[\"destination_region\"] = flights[\"destination_region\"].fillna(\"UNKNOWN\")\n",
    "\n",
    "# Translate Brazilian regions to English\n",
    "flights[\"origin_region\"] = flights[\"origin_region\"].map(region_translation).fillna(flights[\"origin_region\"])\n",
    "flights[\"destination_region\"] = flights[\"destination_region\"].map(region_translation).fillna(flights[\"destination_region\"])\n",
    "\n",
    "flights[\"year\"] = flights[\"year\"].astype(int)\n",
    "flights[\"month\"] = flights[\"month\"].astype(int)\n",
    "flights[\"year_month\"] = flights[\"year\"].astype(str) + \"-\" + flights[\"month\"].astype(str).str.zfill(2)\n",
    "flights[\"flight_type_norm\"] = flights[\"flight_type\"].astype(str).str.lower()"
   ]
  },
  {
   "cell_type": "code",
   "execution_count": null,
   "id": "c052b196",
   "metadata": {},
   "outputs": [],
   "source": [
    "flights"
   ]
  },
  {
   "cell_type": "code",
   "execution_count": null,
   "id": "eb5043f0",
   "metadata": {},
   "outputs": [],
   "source": [
    "intl_rows = flights[flights[\"flight_type_norm\"] == \"internacional\"]\n",
    "intl_rows"
   ]
  },
  {
   "cell_type": "code",
   "execution_count": null,
   "id": "b8810aff",
   "metadata": {},
   "outputs": [],
   "source": [
    "intl_mask = flights[\"flight_type_norm\"].str.contains(\"intern\", na=False)\n",
    "\n",
    "intl_summary = (flights.loc[intl_mask]\n",
    "    .groupby([\"year_month\", \"destination_region\", \"origin_country\"], dropna=False, as_index=False)\n",
    "    .agg(arriving_passengers=(\"passengers_paying\", \"sum\")))\n",
    "\n",
    "intl_summary[\"arriving_passengers\"] = intl_summary[\"arriving_passengers\"].astype(int)\n",
    "intl_summary.to_csv(\"intl_arrivals_by_region_country.csv\", index=False)\n",
    "intl_summary.head(50)"
   ]
  },
  {
   "cell_type": "code",
   "execution_count": null,
   "id": "0d262da8",
   "metadata": {},
   "outputs": [],
   "source": [
    "print(flights[\"destination_region\"].unique())\n",
    "\n",
    "# Optional: also see counts per region\n",
    "print(flights[\"destination_region\"].value_counts())"
   ]
  },
  {
   "cell_type": "code",
   "execution_count": null,
   "id": "7c8219aa",
   "metadata": {},
   "outputs": [],
   "source": [
    "print(flights[\"origin_country\"].unique())\n",
    "\n",
    "# Optional: also see counts per region\n",
    "print(flights[\"origin_country\"].value_counts())"
   ]
  },
  {
   "cell_type": "code",
   "execution_count": null,
   "id": "10b373cc",
   "metadata": {},
   "outputs": [],
   "source": [
    "# Cell 8: Domestic arrivals\n",
    "dom_mask = ~intl_mask\n",
    "\n",
    "dom_summary = (flights.loc[dom_mask]\n",
    "    .groupby([\"year_month\", \"destination_region\", \"origin_region\"], dropna=False, as_index=False)\n",
    "    .agg(arriving_passengers=(\"passengers_paying\", \"sum\")))\n",
    "\n",
    "dom_summary[\"arriving_passengers\"] = dom_summary[\"arriving_passengers\"].astype(int)\n",
    "dom_summary.to_csv(\"domestic_arrivals_by_region.csv\", index=False)\n",
    "dom_summary.head()"
   ]
  },
  {
   "cell_type": "code",
   "execution_count": null,
   "id": "c2654ccb",
   "metadata": {},
   "outputs": [],
   "source": [
    "dom_flights = flights.loc[dom_mask]\n",
    "dom_flights"
   ]
  },
  {
   "cell_type": "code",
   "execution_count": null,
   "id": "e09238f0",
   "metadata": {},
   "outputs": [],
   "source": [
    "int_flights = flights.loc[intl_mask]\n",
    "int_flights"
   ]
  },
  {
   "cell_type": "code",
   "execution_count": null,
   "id": "730ec012",
   "metadata": {},
   "outputs": [],
   "source": [
    "num_unknown = (df[\"origin_country\"] == \"UNKNOWN\").sum()\n",
    "print(\"Number of rows with origin_country = UNKNOWN:\", num_unknown)"
   ]
  },
  {
   "cell_type": "code",
   "execution_count": null,
   "id": "e0f97601",
   "metadata": {},
   "outputs": [],
   "source": []
  }
 ],
 "metadata": {
  "kernelspec": {
   "display_name": "Python 3 (ipykernel)",
   "language": "python",
   "name": "python3"
  },
  "language_info": {
   "codemirror_mode": {
    "name": "ipython",
    "version": 3
   },
   "file_extension": ".py",
   "mimetype": "text/x-python",
   "name": "python",
   "nbconvert_exporter": "python",
   "pygments_lexer": "ipython3",
   "version": "3.9.18"
  }
 },
 "nbformat": 4,
 "nbformat_minor": 5
}
